{
 "cells": [
  {
   "cell_type": "markdown",
   "metadata": {},
   "source": [
    "## Ejemplo de un Main.ipynb"
   ]
  },
  {
   "cell_type": "markdown",
   "metadata": {},
   "source": [
    "### Importaciones de los archivos \".py\" para los graficos"
   ]
  },
  {
   "cell_type": "code",
   "execution_count": 2,
   "metadata": {},
   "outputs": [],
   "source": [
    "import Graphics.Barras as grafBarras\n",
    "import Graphics.Pie as grafPie\n",
    "import Graphics.Histograma as grafHisto\n",
    "import Graphics.Ojiva as grafOjiva\n",
    "import Graphics.Poligonos as grafPoli\n"
   ]
  },
  {
   "cell_type": "markdown",
   "metadata": {},
   "source": [
    "### Importaciones de los archivos \".py\" para las funciones."
   ]
  },
  {
   "cell_type": "code",
   "execution_count": null,
   "metadata": {},
   "outputs": [],
   "source": [
    "import Functions.clases_grouped as cg\n",
    "import Functions.clases_str_sort as clas_str_sort\n",
    "import Functions.fa_grouped as faGr\n",
    "import Functions.format_str as fStr\n",
    "import Functions.frec_abs as abs\n",
    "import Functions.frec_acum as acum\n",
    "import Functions.frec_rel as rel\n",
    "import Functions.ordenar_asc as orAsc\n",
    "import Functions.sort_clases_fa as scFa\n",
    "import Functions.tabla_grouped as tg\n",
    "import Functions.tabla as t\n"
   ]
  },
  {
   "cell_type": "markdown",
   "metadata": {},
   "source": [
    "### Aquí se llaman a las funciones a partir de su importación"
   ]
  },
  {
   "cell_type": "code",
   "execution_count": 3,
   "metadata": {},
   "outputs": [],
   "source": [
    "datos_entrada = []"
   ]
  }
 ],
 "metadata": {
  "kernelspec": {
   "display_name": "Python 3",
   "language": "python",
   "name": "python3"
  },
  "language_info": {
   "codemirror_mode": {
    "name": "ipython",
    "version": 3
   },
   "file_extension": ".py",
   "mimetype": "text/x-python",
   "name": "python",
   "nbconvert_exporter": "python",
   "pygments_lexer": "ipython3",
   "version": "3.12.4"
  }
 },
 "nbformat": 4,
 "nbformat_minor": 2
}
