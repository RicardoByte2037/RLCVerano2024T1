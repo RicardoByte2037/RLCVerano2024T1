{
 "cells": [
  {
   "cell_type": "code",
   "execution_count": 7,
   "metadata": {},
   "outputs": [],
   "source": [
    "import Graphics.Barras as grafBarras\n",
    "import Graphics.Pie as grafPie\n",
    "import Graphics.Histograma as grafHisto\n",
    "import Graphics.Ojiva as grafOjiva\n",
    "import Graphics.Poligonos as grafPoli\n",
    "# Graficos con limites (sup e inf)\n",
    "import Graphics_Lims.plotBarras as pBarras\n",
    "import Graphics_Lims.plotPie as pPie\n",
    "import Graphics_Lims.plotHistograma as pHistograma\n",
    "import Graphics_Lims.plotOjiva as pOjiva\n",
    "import Graphics_Lims.plotPoligono as pPoligono\n",
    "\n"
   ]
  },
  {
   "cell_type": "code",
   "execution_count": 8,
   "metadata": {},
   "outputs": [],
   "source": [
    "import Functions.clases_grouped as cg\n",
    "import Functions.clases_str_sort as clas_str_sort\n",
    "import Functions.fa_grouped as faGr\n",
    "import Functions.format_str as fStr\n",
    "import Functions.frec_abs as abs\n",
    "import Functions.frec_acum as acum\n",
    "import Functions.frec_rel as rel\n",
    "import Functions.ordenar_asc as orAsc\n",
    "import Functions.sort_clases_fa as scFa\n",
    "import Functions.tabla_grouped as tg\n",
    "import Functions.tabla as t\n"
   ]
  },
  {
   "cell_type": "markdown",
   "metadata": {},
   "source": [
    "# Ejercicio 8 Tecnología.\n",
    "Se preguntó a 30 jóvenes cuántas horas dedicaban cada día a navegar en internet (el\n",
    "tiempo que dedican a sesiones de chat y a las redes sociales quedan incluidos). Los resultados\n",
    "son los siguientes:     \n",
    "2.5 4.5 5.8 2.2 5.7\n",
    "5.3 4.0 0.9 2.5 2.3\n",
    "3.2 4.9 2.7 3.7 3.8\n",
    "4.9 2.8 3.6 4.2 3.1\n",
    "7.2 1.9 5.9 3.3 2.9\n",
    "1.1 1.7 2.6 3.1 4.4\n",
    "- A) ¿Qué tipo de datos se maneja en este problema? "
   ]
  },
  {
   "cell_type": "markdown",
   "metadata": {},
   "source": [
    "R) En estejercicio utulizamos datos cuantitativos continuos."
   ]
  }
 ],
 "metadata": {
  "kernelspec": {
   "display_name": "Python 3",
   "language": "python",
   "name": "python3"
  },
  "language_info": {
   "codemirror_mode": {
    "name": "ipython",
    "version": 3
   },
   "file_extension": ".py",
   "mimetype": "text/x-python",
   "name": "python",
   "nbconvert_exporter": "python",
   "pygments_lexer": "ipython3",
   "version": "3.12.4"
  }
 },
 "nbformat": 4,
 "nbformat_minor": 2
}
