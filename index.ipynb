{
 "cells": [
  {
   "cell_type": "code",
   "execution_count": 7,
   "metadata": {},
   "outputs": [],
   "source": [
    "import Graphics.Barras as grafBarras\n",
    "import Graphics.Pie as grafPie\n",
    "import Graphics.Histograma as grafHisto\n",
    "import Graphics.Ojiva as grafOjiva\n",
    "import Graphics.Poligonos as grafPoli\n",
    "# Graficos con limites (sup e inf)\n",
    "import Graphics_Lims.plotBarras as pBarras\n",
    "import Graphics_Lims.plotPie as pPie\n",
    "import Graphics_Lims.plotHistograma as pHistograma\n",
    "import Graphics_Lims.plotOjiva as pOjiva\n",
    "import Graphics_Lims.plotPoligono as pPoligono\n",
    "\n"
   ]
  },
  {
   "cell_type": "code",
   "execution_count": 8,
   "metadata": {},
   "outputs": [],
   "source": [
    "import Functions.clases_grouped as cg\n",
    "import Functions.clases_str_sort as clas_str_sort\n",
    "import Functions.fa_grouped as faGr\n",
    "import Functions.format_str as fStr\n",
    "import Functions.frec_abs as abs\n",
    "import Functions.frec_acum as acum\n",
    "import Functions.frec_rel as rel\n",
    "import Functions.ordenar_asc as orAsc\n",
    "import Functions.sort_clases_fa as scFa\n",
    "import Functions.tabla_grouped as tg\n",
    "import Functions.tabla as t\n"
   ]
  },
  {
   "cell_type": "markdown",
   "metadata": {},
   "source": [
    "# Ejercicio 8 Tecnología.\n",
    "Se preguntó a 30 jóvenes cuántas horas dedicaban cada día a navegar en internet (el\n",
    "tiempo que dedican a sesiones de chat y a las redes sociales quedan incluidos). Los resultados\n",
    "son los siguientes:     \n",
    "2.5 4.5 5.8 2.2 5.7\n",
    "5.3 4.0 0.9 2.5 2.3\n",
    "3.2 4.9 2.7 3.7 3.8\n",
    "4.9 2.8 3.6 4.2 3.1\n",
    "7.2 1.9 5.9 3.3 2.9\n",
    "1.1 1.7 2.6 3.1 4.4\n",
    "- A) ¿Qué tipo de datos se maneja en este problema? "
   ]
  },
  {
   "cell_type": "markdown",
   "metadata": {},
   "source": [
    "R) En estejercicio utulizamos datos cuantitativos continuos."
   ]
  },
  {
   "cell_type": "markdown",
   "metadata": {},
   "source": [
    "- B) Construye la distribución de frecuencias correspondiente."
   ]
  },
  {
   "cell_type": "code",
   "execution_count": 11,
   "metadata": {},
   "outputs": [
    {
     "name": "stdout",
     "output_type": "stream",
     "text": [
      "  Clase         Limite Inferior           Limite Superior         Marca de clase    Frecuencia Absoluta     Frecuencia Relativa      Frecuencia Acumulada   \n",
      "---------- ------------------------- ------------------------- ------------------- ------------------- ------------------------- -------------------------\n",
      " Clase 1             0.900                     1.950                  1.950                  4                    13.333                    13.333          \n",
      " Clase 2             1.950                     3.000                  3.000                  8                    26.667                    40.000          \n",
      " Clase 3             3.000                     4.050                  4.050                  8                    26.667                    66.667          \n",
      " Clase 4             4.050                     5.100                  5.100                  5                    16.667                    83.333          \n",
      " Clase 5             5.100                     6.150                  6.150                  4                    13.333                    96.667          \n",
      " Clase 6             6.150                     7.200                  6.675                  1                     3.333                    100.000         \n"
     ]
    }
   ],
   "source": [
    "# Datos de entrada\n",
    "dt = [ 2.5, 4.5, 5.8, 2.2, 5.7, 5.3, 4.0, 0.9, 2.5, 2.3, 3.2, 4.9, 2.7, 3.7, 3.8, 4.9, 2.8, 3.6, 4.2, 3.1, 7.2, 1.9, 5.9, 3.3, 2.9, 1.1, 1.7, 2.6, 3.1, 4.4]\n",
    "\n",
    "# Datos ordenados\n",
    "dt = orAsc.ordenar_asc(dt)\n",
    "\n",
    "# Obtenemos clases, lim inf, lim. sup, y marcas de clase\n",
    "clases, lim_inf, lim_sup, mrks = cg.clases_grouped(dt)\n",
    "# Frecuencia absoluta\n",
    "fa = faGr.fa_grouped(lim_inf, lim_sup, dt)\n",
    "\n",
    "# Frecuencia relativa\n",
    "fr = rel.frec_rel(fa)\n",
    "\n",
    "# Frecuencia relativa acumulada\n",
    "facum = acum.frec_acum(fr)\n",
    "\n",
    "# Imprecion en tabla para todos los datos\n",
    "tg.tabla_grouped(clases, lim_inf, lim_sup, mrks, fa, fr, facum)"
   ]
  }
 ],
 "metadata": {
  "kernelspec": {
   "display_name": "Python 3",
   "language": "python",
   "name": "python3"
  },
  "language_info": {
   "codemirror_mode": {
    "name": "ipython",
    "version": 3
   },
   "file_extension": ".py",
   "mimetype": "text/x-python",
   "name": "python",
   "nbconvert_exporter": "python",
   "pygments_lexer": "ipython3",
   "version": "3.12.4"
  }
 },
 "nbformat": 4,
 "nbformat_minor": 2
}
