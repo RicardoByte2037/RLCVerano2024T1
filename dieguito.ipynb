{
 "cells": [
  {
   "cell_type": "code",
   "execution_count": 2,
   "metadata": {},
   "outputs": [],
   "source": [
    "import Graphics.Barras as grafBarras\n",
    "import Graphics.Pie as grafPie\n",
    "import Graphics.Histograma as grafHisto\n",
    "import Graphics.Ojiva as grafOjiva\n",
    "import Graphics.Poligonos as grafPoli\n",
    "# Graficos con limites (sup e inf)\n",
    "import Graphics_Lims.plotBarras as pBarras\n",
    "import Graphics_Lims.plotPie as pPie\n",
    "import Graphics_Lims.plotHistograma as pHistograma\n",
    "import Graphics_Lims.plotOjiva as pOjiva\n",
    "import Graphics_Lims.plotPoligono as pPoligono"
   ]
  },
  {
   "cell_type": "code",
   "execution_count": 4,
   "metadata": {},
   "outputs": [],
   "source": [
    "import Functions.clases_grouped as cg\n",
    "import Functions.clases_str_sort as clas_str_sort\n",
    "import Functions.fa_grouped as faGr\n",
    "import Functions.format_str as fStr\n",
    "import Functions.frec_abs as abs\n",
    "import Functions.frec_acum as acum\n",
    "import Functions.frec_rel as rel\n",
    "import Functions.ordenar_asc as orAsc\n",
    "import Functions.sort_clases_fa as scFa\n",
    "import Functions.tabla_grouped as tg\n",
    "import Functions.tabla as t\n"
   ]
  },
  {
   "cell_type": "code",
   "execution_count": null,
   "metadata": {},
   "outputs": [],
   "source": [
    "datos = [250, 790 ,470, 510, 500, 330,\n",
    "300 ,750, 580, 740 ,420, 260\n",
    ",440, 770, 400, 540, 530, 330,\n",
    "390 ,380, 340, 460, 530, 260,\n",
    "410, 360, 270, 510, 630, 330]\n",
    "\n"
   ]
  }
 ],
 "metadata": {
  "kernelspec": {
   "display_name": "Python 3",
   "language": "python",
   "name": "python3"
  },
  "language_info": {
   "codemirror_mode": {
    "name": "ipython",
    "version": 3
   },
   "file_extension": ".py",
   "mimetype": "text/x-python",
   "name": "python",
   "nbconvert_exporter": "python",
   "pygments_lexer": "ipython3",
   "version": "3.12.4"
  }
 },
 "nbformat": 4,
 "nbformat_minor": 2
}
